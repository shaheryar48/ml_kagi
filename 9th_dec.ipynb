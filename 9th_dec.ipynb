{
 "cells": [
  {
   "cell_type": "code",
   "execution_count": 1,
   "metadata": {},
   "outputs": [
    {
     "name": "stdout",
     "output_type": "stream",
     "text": [
      "Requirement already satisfied: ctranslate2 in c:\\users\\shaheryar.ahmed\\appdata\\local\\programs\\python\\python310\\lib\\site-packages (4.5.0)Note: you may need to restart the kernel to use updated packages.\n",
      "\n",
      "Requirement already satisfied: setuptools in c:\\users\\shaheryar.ahmed\\appdata\\local\\programs\\python\\python310\\lib\\site-packages (from ctranslate2) (58.1.0)\n",
      "Requirement already satisfied: numpy in c:\\users\\shaheryar.ahmed\\appdata\\local\\programs\\python\\python310\\lib\\site-packages (from ctranslate2) (1.23.4)\n",
      "Requirement already satisfied: pyyaml<7,>=5.3 in c:\\users\\shaheryar.ahmed\\appdata\\local\\programs\\python\\python310\\lib\\site-packages (from ctranslate2) (6.0.1)\n"
     ]
    },
    {
     "name": "stderr",
     "output_type": "stream",
     "text": [
      "\n",
      "[notice] A new release of pip is available: 24.0 -> 24.3.1\n",
      "[notice] To update, run: python.exe -m pip install --upgrade pip\n"
     ]
    }
   ],
   "source": [
    "pip install ctranslate2"
   ]
  },
  {
   "cell_type": "code",
   "execution_count": 2,
   "metadata": {},
   "outputs": [],
   "source": [
    "import os\n",
    "os.environ[\"KMP_DUPLICATE_LIB_OK\"]=\"TRUE\""
   ]
  },
  {
   "cell_type": "code",
   "execution_count": 5,
   "metadata": {},
   "outputs": [
    {
     "name": "stderr",
     "output_type": "stream",
     "text": [
      "c:\\Users\\shaheryar.ahmed\\AppData\\Local\\Programs\\Python\\Python310\\lib\\site-packages\\huggingface_hub\\file_download.py:1132: FutureWarning: `resume_download` is deprecated and will be removed in version 1.0.0. Downloads always resume when possible. If you want to force a new download, use `force_download=True`.\n",
      "  warnings.warn(\n",
      "c:\\Users\\shaheryar.ahmed\\AppData\\Local\\Programs\\Python\\Python310\\lib\\site-packages\\huggingface_hub\\file_download.py:1132: FutureWarning: `resume_download` is deprecated and will be removed in version 1.0.0. Downloads always resume when possible. If you want to force a new download, use `force_download=True`.\n",
      "  warnings.warn(\n"
     ]
    },
    {
     "ename": "RuntimeError",
     "evalue": "output directory optimized_model5 already exists, use --force to override",
     "output_type": "error",
     "traceback": [
      "\u001b[1;31m---------------------------------------------------------------------------\u001b[0m",
      "\u001b[1;31mRuntimeError\u001b[0m                              Traceback (most recent call last)",
      "Cell \u001b[1;32mIn [5], line 16\u001b[0m\n\u001b[0;32m     14\u001b[0m \u001b[38;5;66;03m# Convert the model using CTranslate2\u001b[39;00m\n\u001b[0;32m     15\u001b[0m converter \u001b[38;5;241m=\u001b[39m ctranslate2\u001b[38;5;241m.\u001b[39mconverters\u001b[38;5;241m.\u001b[39mTransformersConverter(save_dir)\n\u001b[1;32m---> 16\u001b[0m \u001b[43mconverter\u001b[49m\u001b[38;5;241;43m.\u001b[39;49m\u001b[43mconvert\u001b[49m\u001b[43m(\u001b[49m\u001b[43moutput_dir\u001b[49m\u001b[38;5;241;43m=\u001b[39;49m\u001b[38;5;124;43m\"\u001b[39;49m\u001b[38;5;124;43moptimized_model5\u001b[39;49m\u001b[38;5;124;43m\"\u001b[39;49m\u001b[43m,\u001b[49m\u001b[43m \u001b[49m\u001b[43mquantization\u001b[49m\u001b[38;5;241;43m=\u001b[39;49m\u001b[38;5;124;43m\"\u001b[39;49m\u001b[38;5;124;43mint8_bfloat16\u001b[39;49m\u001b[38;5;124;43m\"\u001b[39;49m\u001b[43m)\u001b[49m\n",
      "File \u001b[1;32mc:\\Users\\shaheryar.ahmed\\AppData\\Local\\Programs\\Python\\Python310\\lib\\site-packages\\ctranslate2\\converters\\converter.py:84\u001b[0m, in \u001b[0;36mConverter.convert\u001b[1;34m(self, output_dir, vmap, quantization, force)\u001b[0m\n\u001b[0;32m     64\u001b[0m \u001b[38;5;124;03m\"\"\"Converts the model to the CTranslate2 format.\u001b[39;00m\n\u001b[0;32m     65\u001b[0m \n\u001b[0;32m     66\u001b[0m \u001b[38;5;124;03mArguments:\u001b[39;00m\n\u001b[1;32m   (...)\u001b[0m\n\u001b[0;32m     81\u001b[0m \u001b[38;5;124;03m    CTranslate2 format.\u001b[39;00m\n\u001b[0;32m     82\u001b[0m \u001b[38;5;124;03m\"\"\"\u001b[39;00m\n\u001b[0;32m     83\u001b[0m \u001b[38;5;28;01mif\u001b[39;00m os\u001b[38;5;241m.\u001b[39mpath\u001b[38;5;241m.\u001b[39mexists(output_dir) \u001b[38;5;129;01mand\u001b[39;00m \u001b[38;5;129;01mnot\u001b[39;00m force:\n\u001b[1;32m---> 84\u001b[0m     \u001b[38;5;28;01mraise\u001b[39;00m \u001b[38;5;167;01mRuntimeError\u001b[39;00m(\n\u001b[0;32m     85\u001b[0m         \u001b[38;5;124m\"\u001b[39m\u001b[38;5;124moutput directory \u001b[39m\u001b[38;5;132;01m%s\u001b[39;00m\u001b[38;5;124m already exists, use --force to override\u001b[39m\u001b[38;5;124m\"\u001b[39m\n\u001b[0;32m     86\u001b[0m         \u001b[38;5;241m%\u001b[39m output_dir\n\u001b[0;32m     87\u001b[0m     )\n\u001b[0;32m     89\u001b[0m model_spec \u001b[38;5;241m=\u001b[39m \u001b[38;5;28mself\u001b[39m\u001b[38;5;241m.\u001b[39m_load()\n\u001b[0;32m     90\u001b[0m \u001b[38;5;28;01mif\u001b[39;00m model_spec \u001b[38;5;129;01mis\u001b[39;00m \u001b[38;5;28;01mNone\u001b[39;00m:\n",
      "\u001b[1;31mRuntimeError\u001b[0m: output directory optimized_model5 already exists, use --force to override"
     ]
    }
   ],
   "source": [
    "from transformers import AutoTokenizer, AutoModelForSeq2SeqLM\n",
    "import ctranslate2\n",
    "\n",
    "# Load the model from Hugging Face\n",
    "model_name = \"lapp0/flan-t5-small-query-expansion-merged-lr-2e-4-ep-30\"\n",
    "tokenizer = AutoTokenizer.from_pretrained(model_name)\n",
    "model = AutoModelForSeq2SeqLM.from_pretrained(model_name)\n",
    "\n",
    "# Save the model locally\n",
    "save_dir = \"./hf_model\"\n",
    "model.save_pretrained(save_dir)\n",
    "tokenizer.save_pretrained(save_dir)\n",
    "\n",
    "# Convert the model using CTranslate2\n",
    "converter = ctranslate2.converters.TransformersConverter(save_dir)\n",
    "converter.convert(output_dir=\"optimized_model5\", quantization=\"int8_bfloat16\")\n"
   ]
  },
  {
   "cell_type": "code",
   "execution_count": 26,
   "metadata": {},
   "outputs": [
    {
     "name": "stdout",
     "output_type": "stream",
     "text": [
      "Top noise cancelling headphones under $100. Top noise cancelling headphones $100 - $200. Best\n",
      "Elapsed time: 0.6607 seconds\n"
     ]
    }
   ],
   "source": [
    "import ctranslate2\n",
    "import time\n",
    "# Load the converted model with CTranslate2\n",
    "translator = ctranslate2.Translator(\"optimized_model5\")\n",
    "\n",
    "# Prepare input data\n",
    "input_texts = [\"Create a table for top noise cancelling headphones that are not expensive\"]\n",
    "model_name = \"lapp0/flan-t5-small-query-expansion-merged-lr-2e-4-ep-30\"\n",
    "tokenizer = AutoTokenizer.from_pretrained(model_name)\n",
    "\n",
    "# Tokenize the input texts\n",
    "input_encodings = tokenizer(input_texts, return_tensors=\"pt\", padding=True, truncation=True)\n",
    "\n",
    "# Record the start time\n",
    "start_time = time.time()\n",
    "\n",
    "# Perform inference\n",
    "output_encodings = model.generate(input_encodings.input_ids)\n",
    "\n",
    "# Record the end time\n",
    "end_time = time.time()\n",
    "\n",
    "# Calculate the elapsed time\n",
    "elapsed_time = end_time - start_time\n",
    "\n",
    "# Decode the output\n",
    "output_texts = [tokenizer.decode(output_encoding, skip_special_tokens=True) for output_encoding in output_encodings]\n",
    "\n",
    "for text in output_texts:\n",
    "    print(text)\n",
    "\n",
    "# Print the elapsed time\n",
    "print(f\"Elapsed time: {elapsed_time:.4f} seconds\")\n"
   ]
  },
  {
   "cell_type": "code",
   "execution_count": 35,
   "metadata": {},
   "outputs": [
    {
     "name": "stdout",
     "output_type": "stream",
     "text": [
      "When did Nikola Tesla die. When did Milutin Milankovic die .\n",
      "Elapsed time: 139.0736 milliseconds\n"
     ]
    }
   ],
   "source": [
    "import ctranslate2\n",
    "import time\n",
    "\n",
    "# Load the converted model with CTranslate2\n",
    "translator = ctranslate2.Translator(\"optimized_model4\", device=\"cpu\", inter_threads=4, intra_threads=4)\n",
    "#model_name = \"lapp0/flan-t5-small-query-expansion-merged-lr-2e-4-ep-30\"\n",
    "#tokenizer = AutoTokenizer.from_pretrained(model_name)\n",
    "\n",
    "# Prepare input data\n",
    "input_texts = [\"Who lived longer, Nikola Tesla or Milutin Milankovic?\"]\n",
    "\n",
    "# Tokenize the input texts\n",
    "input_tokens = [tokenizer.tokenize(text) for text in input_texts]\n",
    "\n",
    "# Add end-of-sequence token if necessary\n",
    "input_tokens = [tokens + [tokenizer.eos_token] for tokens in input_tokens]\n",
    "# Record the start time\n",
    "start_time = time.time()\n",
    "\n",
    "# Perform translation\n",
    "results = translator.translate_batch(\n",
    "    input_tokens,\n",
    "    beam_size=1,  # Greedy decoding\n",
    "    return_scores=False,\n",
    "    max_decoding_length=24  # Limit length for faster results\n",
    ")\n",
    "\n",
    "\n",
    "# Record the end time\n",
    "end_time = time.time()\n",
    "\n",
    "# Calculate the elapsed time\n",
    "elapsed_time = (end_time - start_time) * 1000\n",
    "\n",
    "# Decode the output\n",
    "output_texts = [tokenizer.convert_tokens_to_string(result.hypotheses[0]) for result in results]\n",
    "\n",
    "for text in output_texts:\n",
    "    print(text)\n",
    "\n",
    "# Print the elapsed time\n",
    "print(f\"Elapsed time: {elapsed_time:.4f} milliseconds\")"
   ]
  },
  {
   "cell_type": "code",
   "execution_count": 42,
   "metadata": {},
   "outputs": [
    {
     "name": "stdout",
     "output_type": "stream",
     "text": [
      "When did Nikola Tesla die. When did Milutin Milankovic die .\n",
      "Elapsed time: 170.6848 milliseconds\n"
     ]
    }
   ],
   "source": [
    "import ctranslate2\n",
    "import time\n",
    "from transformers import AutoTokenizer\n",
    "\n",
    "# Load the converted model with CTranslate2\n",
    "translator = ctranslate2.Translator(\"optimized_model4\", device=\"cpu\", inter_threads=4, intra_threads=4)\n",
    "model_name = \"lapp0/flan-t5-small-query-expansion-merged-lr-2e-4-ep-30\"\n",
    "tokenizer = AutoTokenizer.from_pretrained(model_name, use_fast=True)\n",
    "\n",
    "# Prepare input data\n",
    "input_texts = [\"Who lived longer, Nikola Tesla or Milutin Milankovic?\"]\n",
    "\n",
    "# Tokenize the input texts\n",
    "input_tokens = [tokenizer.tokenize(text) for text in input_texts]\n",
    "\n",
    "# Add end-of-sequence token if necessary\n",
    "input_tokens = [tokens + [tokenizer.eos_token] for tokens in input_tokens]\n",
    "\n",
    "# Record the start time\n",
    "start_time = time.time()\n",
    "\n",
    "# Perform translation\n",
    "results = translator.translate_batch(\n",
    "    input_tokens,\n",
    "    beam_size=1,  # Greedy decoding\n",
    "    return_scores=False,\n",
    "    max_decoding_length=24  # Limit length for faster results\n",
    ")\n",
    "\n",
    "# Record the end time\n",
    "end_time = time.time()\n",
    "\n",
    "# Calculate the elapsed time\n",
    "elapsed_time = (end_time - start_time) * 1000\n",
    "\n",
    "# Decode the output\n",
    "output_texts = [tokenizer.convert_tokens_to_string(result.hypotheses[0]) for result in results]\n",
    "\n",
    "for text in output_texts:\n",
    "    print(text)\n",
    "\n",
    "# Print the elapsed time\n",
    "print(f\"Elapsed time: {elapsed_time:.4f} milliseconds\")\n"
   ]
  },
  {
   "cell_type": "code",
   "execution_count": 23,
   "metadata": {},
   "outputs": [
    {
     "name": "stdout",
     "output_type": "stream",
     "text": [
      "Requirement already satisfied: fastapi in c:\\users\\shaheryar.ahmed\\appdata\\local\\programs\\python\\python310\\lib\\site-packages (0.111.0)\n",
      "Requirement already satisfied: uvicorn in c:\\users\\shaheryar.ahmed\\appdata\\local\\programs\\python\\python310\\lib\\site-packages (0.29.0)\n",
      "Requirement already satisfied: starlette<0.38.0,>=0.37.2 in c:\\users\\shaheryar.ahmed\\appdata\\local\\programs\\python\\python310\\lib\\site-packages (from fastapi) (0.37.2)\n",
      "Requirement already satisfied: pydantic!=1.8,!=1.8.1,!=2.0.0,!=2.0.1,!=2.1.0,<3.0.0,>=1.7.4 in c:\\users\\shaheryar.ahmed\\appdata\\local\\programs\\python\\python310\\lib\\site-packages (from fastapi) (2.7.1)\n",
      "Requirement already satisfied: typing-extensions>=4.8.0 in c:\\users\\shaheryar.ahmed\\appdata\\local\\programs\\python\\python310\\lib\\site-packages (from fastapi) (4.9.0)\n",
      "Requirement already satisfied: fastapi-cli>=0.0.2 in c:\\users\\shaheryar.ahmed\\appdata\\local\\programs\\python\\python310\\lib\\site-packages (from fastapi) (0.0.2)\n",
      "Requirement already satisfied: httpx>=0.23.0 in c:\\users\\shaheryar.ahmed\\appdata\\local\\programs\\python\\python310\\lib\\site-packages (from fastapi) (0.27.0)\n",
      "Requirement already satisfied: jinja2>=2.11.2 in c:\\users\\shaheryar.ahmed\\appdata\\local\\programs\\python\\python310\\lib\\site-packages (from fastapi) (3.1.2)\n",
      "Requirement already satisfied: python-multipart>=0.0.7 in c:\\users\\shaheryar.ahmed\\appdata\\local\\programs\\python\\python310\\lib\\site-packages (from fastapi) (0.0.9)\n",
      "Requirement already satisfied: ujson!=4.0.2,!=4.1.0,!=4.2.0,!=4.3.0,!=5.0.0,!=5.1.0,>=4.0.1 in c:\\users\\shaheryar.ahmed\\appdata\\local\\programs\\python\\python310\\lib\\site-packages (from fastapi) (5.9.0)\n",
      "Requirement already satisfied: orjson>=3.2.1 in c:\\users\\shaheryar.ahmed\\appdata\\local\\programs\\python\\python310\\lib\\site-packages (from fastapi) (3.10.3)\n",
      "Requirement already satisfied: email_validator>=2.0.0 in c:\\users\\shaheryar.ahmed\\appdata\\local\\programs\\python\\python310\\lib\\site-packages (from fastapi) (2.1.1)\n",
      "Requirement already satisfied: click>=7.0 in c:\\users\\shaheryar.ahmed\\appdata\\local\\programs\\python\\python310\\lib\\site-packages (from uvicorn) (8.1.3)\n",
      "Requirement already satisfied: h11>=0.8 in c:\\users\\shaheryar.ahmed\\appdata\\local\\programs\\python\\python310\\lib\\site-packages (from uvicorn) (0.14.0)\n",
      "Requirement already satisfied: colorama in c:\\users\\shaheryar.ahmed\\appdata\\roaming\\python\\python310\\site-packages (from click>=7.0->uvicorn) (0.4.6)\n",
      "Requirement already satisfied: dnspython>=2.0.0 in c:\\users\\shaheryar.ahmed\\appdata\\local\\programs\\python\\python310\\lib\\site-packages (from email_validator>=2.0.0->fastapi) (2.6.1)\n",
      "Requirement already satisfied: idna>=2.0.0 in c:\\users\\shaheryar.ahmed\\appdata\\local\\programs\\python\\python310\\lib\\site-packages (from email_validator>=2.0.0->fastapi) (3.7)\n",
      "Requirement already satisfied: typer>=0.12.3 in c:\\users\\shaheryar.ahmed\\appdata\\local\\programs\\python\\python310\\lib\\site-packages (from fastapi-cli>=0.0.2->fastapi) (0.12.3)\n",
      "Requirement already satisfied: anyio in c:\\users\\shaheryar.ahmed\\appdata\\local\\programs\\python\\python310\\lib\\site-packages (from httpx>=0.23.0->fastapi) (4.3.0)\n",
      "Requirement already satisfied: certifi in c:\\users\\shaheryar.ahmed\\appdata\\local\\programs\\python\\python310\\lib\\site-packages (from httpx>=0.23.0->fastapi) (2024.2.2)\n",
      "Requirement already satisfied: httpcore==1.* in c:\\users\\shaheryar.ahmed\\appdata\\local\\programs\\python\\python310\\lib\\site-packages (from httpx>=0.23.0->fastapi) (1.0.5)\n",
      "Requirement already satisfied: sniffio in c:\\users\\shaheryar.ahmed\\appdata\\local\\programs\\python\\python310\\lib\\site-packages (from httpx>=0.23.0->fastapi) (1.3.1)\n",
      "Requirement already satisfied: MarkupSafe>=2.0 in c:\\users\\shaheryar.ahmed\\appdata\\local\\programs\\python\\python310\\lib\\site-packages (from jinja2>=2.11.2->fastapi) (2.1.1)\n",
      "Requirement already satisfied: annotated-types>=0.4.0 in c:\\users\\shaheryar.ahmed\\appdata\\local\\programs\\python\\python310\\lib\\site-packages (from pydantic!=1.8,!=1.8.1,!=2.0.0,!=2.0.1,!=2.1.0,<3.0.0,>=1.7.4->fastapi) (0.6.0)\n",
      "Requirement already satisfied: pydantic-core==2.18.2 in c:\\users\\shaheryar.ahmed\\appdata\\local\\programs\\python\\python310\\lib\\site-packages (from pydantic!=1.8,!=1.8.1,!=2.0.0,!=2.0.1,!=2.1.0,<3.0.0,>=1.7.4->fastapi) (2.18.2)\n",
      "Requirement already satisfied: httptools>=0.5.0 in c:\\users\\shaheryar.ahmed\\appdata\\local\\programs\\python\\python310\\lib\\site-packages (from uvicorn[standard]>=0.12.0->fastapi) (0.6.1)\n",
      "Requirement already satisfied: python-dotenv>=0.13 in c:\\users\\shaheryar.ahmed\\appdata\\local\\programs\\python\\python310\\lib\\site-packages (from uvicorn[standard]>=0.12.0->fastapi) (1.0.1)\n",
      "Requirement already satisfied: pyyaml>=5.1 in c:\\users\\shaheryar.ahmed\\appdata\\local\\programs\\python\\python310\\lib\\site-packages (from uvicorn[standard]>=0.12.0->fastapi) (6.0.1)\n",
      "Requirement already satisfied: watchfiles>=0.13 in c:\\users\\shaheryar.ahmed\\appdata\\local\\programs\\python\\python310\\lib\\site-packages (from uvicorn[standard]>=0.12.0->fastapi) (0.21.0)\n",
      "Requirement already satisfied: websockets>=10.4 in c:\\users\\shaheryar.ahmed\\appdata\\local\\programs\\python\\python310\\lib\\site-packages (from uvicorn[standard]>=0.12.0->fastapi) (12.0)\n",
      "Requirement already satisfied: exceptiongroup>=1.0.2 in c:\\users\\shaheryar.ahmed\\appdata\\local\\programs\\python\\python310\\lib\\site-packages (from anyio->httpx>=0.23.0->fastapi) (1.2.1)\n",
      "Requirement already satisfied: shellingham>=1.3.0 in c:\\users\\shaheryar.ahmed\\appdata\\local\\programs\\python\\python310\\lib\\site-packages (from typer>=0.12.3->fastapi-cli>=0.0.2->fastapi) (1.5.4)\n",
      "Requirement already satisfied: rich>=10.11.0 in c:\\users\\shaheryar.ahmed\\appdata\\local\\programs\\python\\python310\\lib\\site-packages (from typer>=0.12.3->fastapi-cli>=0.0.2->fastapi) (13.7.1)\n",
      "Requirement already satisfied: markdown-it-py>=2.2.0 in c:\\users\\shaheryar.ahmed\\appdata\\local\\programs\\python\\python310\\lib\\site-packages (from rich>=10.11.0->typer>=0.12.3->fastapi-cli>=0.0.2->fastapi) (3.0.0)\n",
      "Requirement already satisfied: pygments<3.0.0,>=2.13.0 in c:\\users\\shaheryar.ahmed\\appdata\\roaming\\python\\python310\\site-packages (from rich>=10.11.0->typer>=0.12.3->fastapi-cli>=0.0.2->fastapi) (2.13.0)\n",
      "Requirement already satisfied: mdurl~=0.1 in c:\\users\\shaheryar.ahmed\\appdata\\local\\programs\\python\\python310\\lib\\site-packages (from markdown-it-py>=2.2.0->rich>=10.11.0->typer>=0.12.3->fastapi-cli>=0.0.2->fastapi) (0.1.2)\n",
      "Note: you may need to restart the kernel to use updated packages.\n"
     ]
    },
    {
     "name": "stderr",
     "output_type": "stream",
     "text": [
      "\n",
      "[notice] A new release of pip is available: 24.0 -> 24.3.1\n",
      "[notice] To update, run: python.exe -m pip install --upgrade pip\n"
     ]
    }
   ],
   "source": [
    "pip install fastapi uvicorn"
   ]
  },
  {
   "cell_type": "code",
   "execution_count": 25,
   "metadata": {},
   "outputs": [
    {
     "name": "stdout",
     "output_type": "stream",
     "text": [
      "Requirement already satisfied: fastapi in c:\\users\\shaheryar.ahmed\\appdata\\local\\programs\\python\\python310\\lib\\site-packages (0.111.0)Note: you may need to restart the kernel to use updated packages.\n"
     ]
    },
    {
     "name": "stderr",
     "output_type": "stream",
     "text": [
      "\n",
      "[notice] A new release of pip is available: 24.0 -> 24.3.1\n",
      "[notice] To update, run: python.exe -m pip install --upgrade pip\n"
     ]
    },
    {
     "name": "stdout",
     "output_type": "stream",
     "text": [
      "\n",
      "Requirement already satisfied: uvicorn in c:\\users\\shaheryar.ahmed\\appdata\\local\\programs\\python\\python310\\lib\\site-packages (0.29.0)\n",
      "Requirement already satisfied: ctranslate2 in c:\\users\\shaheryar.ahmed\\appdata\\local\\programs\\python\\python310\\lib\\site-packages (4.5.0)\n",
      "Requirement already satisfied: starlette<0.38.0,>=0.37.2 in c:\\users\\shaheryar.ahmed\\appdata\\local\\programs\\python\\python310\\lib\\site-packages (from fastapi) (0.37.2)\n",
      "Requirement already satisfied: pydantic!=1.8,!=1.8.1,!=2.0.0,!=2.0.1,!=2.1.0,<3.0.0,>=1.7.4 in c:\\users\\shaheryar.ahmed\\appdata\\local\\programs\\python\\python310\\lib\\site-packages (from fastapi) (2.7.1)\n",
      "Requirement already satisfied: typing-extensions>=4.8.0 in c:\\users\\shaheryar.ahmed\\appdata\\local\\programs\\python\\python310\\lib\\site-packages (from fastapi) (4.9.0)\n",
      "Requirement already satisfied: fastapi-cli>=0.0.2 in c:\\users\\shaheryar.ahmed\\appdata\\local\\programs\\python\\python310\\lib\\site-packages (from fastapi) (0.0.2)\n",
      "Requirement already satisfied: httpx>=0.23.0 in c:\\users\\shaheryar.ahmed\\appdata\\local\\programs\\python\\python310\\lib\\site-packages (from fastapi) (0.27.0)\n",
      "Requirement already satisfied: jinja2>=2.11.2 in c:\\users\\shaheryar.ahmed\\appdata\\local\\programs\\python\\python310\\lib\\site-packages (from fastapi) (3.1.2)\n",
      "Requirement already satisfied: python-multipart>=0.0.7 in c:\\users\\shaheryar.ahmed\\appdata\\local\\programs\\python\\python310\\lib\\site-packages (from fastapi) (0.0.9)\n",
      "Requirement already satisfied: ujson!=4.0.2,!=4.1.0,!=4.2.0,!=4.3.0,!=5.0.0,!=5.1.0,>=4.0.1 in c:\\users\\shaheryar.ahmed\\appdata\\local\\programs\\python\\python310\\lib\\site-packages (from fastapi) (5.9.0)\n",
      "Requirement already satisfied: orjson>=3.2.1 in c:\\users\\shaheryar.ahmed\\appdata\\local\\programs\\python\\python310\\lib\\site-packages (from fastapi) (3.10.3)\n",
      "Requirement already satisfied: email_validator>=2.0.0 in c:\\users\\shaheryar.ahmed\\appdata\\local\\programs\\python\\python310\\lib\\site-packages (from fastapi) (2.1.1)\n",
      "Requirement already satisfied: click>=7.0 in c:\\users\\shaheryar.ahmed\\appdata\\local\\programs\\python\\python310\\lib\\site-packages (from uvicorn) (8.1.3)\n",
      "Requirement already satisfied: h11>=0.8 in c:\\users\\shaheryar.ahmed\\appdata\\local\\programs\\python\\python310\\lib\\site-packages (from uvicorn) (0.14.0)\n",
      "Requirement already satisfied: setuptools in c:\\users\\shaheryar.ahmed\\appdata\\local\\programs\\python\\python310\\lib\\site-packages (from ctranslate2) (58.1.0)\n",
      "Requirement already satisfied: numpy in c:\\users\\shaheryar.ahmed\\appdata\\local\\programs\\python\\python310\\lib\\site-packages (from ctranslate2) (1.23.4)\n",
      "Requirement already satisfied: pyyaml<7,>=5.3 in c:\\users\\shaheryar.ahmed\\appdata\\local\\programs\\python\\python310\\lib\\site-packages (from ctranslate2) (6.0.1)\n",
      "Requirement already satisfied: colorama in c:\\users\\shaheryar.ahmed\\appdata\\roaming\\python\\python310\\site-packages (from click>=7.0->uvicorn) (0.4.6)\n",
      "Requirement already satisfied: dnspython>=2.0.0 in c:\\users\\shaheryar.ahmed\\appdata\\local\\programs\\python\\python310\\lib\\site-packages (from email_validator>=2.0.0->fastapi) (2.6.1)\n",
      "Requirement already satisfied: idna>=2.0.0 in c:\\users\\shaheryar.ahmed\\appdata\\local\\programs\\python\\python310\\lib\\site-packages (from email_validator>=2.0.0->fastapi) (3.7)\n",
      "Requirement already satisfied: typer>=0.12.3 in c:\\users\\shaheryar.ahmed\\appdata\\local\\programs\\python\\python310\\lib\\site-packages (from fastapi-cli>=0.0.2->fastapi) (0.12.3)\n",
      "Requirement already satisfied: anyio in c:\\users\\shaheryar.ahmed\\appdata\\local\\programs\\python\\python310\\lib\\site-packages (from httpx>=0.23.0->fastapi) (4.3.0)\n",
      "Requirement already satisfied: certifi in c:\\users\\shaheryar.ahmed\\appdata\\local\\programs\\python\\python310\\lib\\site-packages (from httpx>=0.23.0->fastapi) (2024.2.2)\n",
      "Requirement already satisfied: httpcore==1.* in c:\\users\\shaheryar.ahmed\\appdata\\local\\programs\\python\\python310\\lib\\site-packages (from httpx>=0.23.0->fastapi) (1.0.5)\n",
      "Requirement already satisfied: sniffio in c:\\users\\shaheryar.ahmed\\appdata\\local\\programs\\python\\python310\\lib\\site-packages (from httpx>=0.23.0->fastapi) (1.3.1)\n",
      "Requirement already satisfied: MarkupSafe>=2.0 in c:\\users\\shaheryar.ahmed\\appdata\\local\\programs\\python\\python310\\lib\\site-packages (from jinja2>=2.11.2->fastapi) (2.1.1)\n",
      "Requirement already satisfied: annotated-types>=0.4.0 in c:\\users\\shaheryar.ahmed\\appdata\\local\\programs\\python\\python310\\lib\\site-packages (from pydantic!=1.8,!=1.8.1,!=2.0.0,!=2.0.1,!=2.1.0,<3.0.0,>=1.7.4->fastapi) (0.6.0)\n",
      "Requirement already satisfied: pydantic-core==2.18.2 in c:\\users\\shaheryar.ahmed\\appdata\\local\\programs\\python\\python310\\lib\\site-packages (from pydantic!=1.8,!=1.8.1,!=2.0.0,!=2.0.1,!=2.1.0,<3.0.0,>=1.7.4->fastapi) (2.18.2)\n",
      "Requirement already satisfied: httptools>=0.5.0 in c:\\users\\shaheryar.ahmed\\appdata\\local\\programs\\python\\python310\\lib\\site-packages (from uvicorn[standard]>=0.12.0->fastapi) (0.6.1)\n",
      "Requirement already satisfied: python-dotenv>=0.13 in c:\\users\\shaheryar.ahmed\\appdata\\local\\programs\\python\\python310\\lib\\site-packages (from uvicorn[standard]>=0.12.0->fastapi) (1.0.1)\n",
      "Requirement already satisfied: watchfiles>=0.13 in c:\\users\\shaheryar.ahmed\\appdata\\local\\programs\\python\\python310\\lib\\site-packages (from uvicorn[standard]>=0.12.0->fastapi) (0.21.0)\n",
      "Requirement already satisfied: websockets>=10.4 in c:\\users\\shaheryar.ahmed\\appdata\\local\\programs\\python\\python310\\lib\\site-packages (from uvicorn[standard]>=0.12.0->fastapi) (12.0)\n",
      "Requirement already satisfied: exceptiongroup>=1.0.2 in c:\\users\\shaheryar.ahmed\\appdata\\local\\programs\\python\\python310\\lib\\site-packages (from anyio->httpx>=0.23.0->fastapi) (1.2.1)\n",
      "Requirement already satisfied: shellingham>=1.3.0 in c:\\users\\shaheryar.ahmed\\appdata\\local\\programs\\python\\python310\\lib\\site-packages (from typer>=0.12.3->fastapi-cli>=0.0.2->fastapi) (1.5.4)\n",
      "Requirement already satisfied: rich>=10.11.0 in c:\\users\\shaheryar.ahmed\\appdata\\local\\programs\\python\\python310\\lib\\site-packages (from typer>=0.12.3->fastapi-cli>=0.0.2->fastapi) (13.7.1)\n",
      "Requirement already satisfied: markdown-it-py>=2.2.0 in c:\\users\\shaheryar.ahmed\\appdata\\local\\programs\\python\\python310\\lib\\site-packages (from rich>=10.11.0->typer>=0.12.3->fastapi-cli>=0.0.2->fastapi) (3.0.0)\n",
      "Requirement already satisfied: pygments<3.0.0,>=2.13.0 in c:\\users\\shaheryar.ahmed\\appdata\\roaming\\python\\python310\\site-packages (from rich>=10.11.0->typer>=0.12.3->fastapi-cli>=0.0.2->fastapi) (2.13.0)\n",
      "Requirement already satisfied: mdurl~=0.1 in c:\\users\\shaheryar.ahmed\\appdata\\local\\programs\\python\\python310\\lib\\site-packages (from markdown-it-py>=2.2.0->rich>=10.11.0->typer>=0.12.3->fastapi-cli>=0.0.2->fastapi) (0.1.2)\n"
     ]
    }
   ],
   "source": [
    "pip install fastapi uvicorn ctranslate2"
   ]
  },
  {
   "cell_type": "code",
   "execution_count": 17,
   "metadata": {},
   "outputs": [
    {
     "ename": "ConnectionError",
     "evalue": "HTTPConnectionPool(host='127.0.0.1', port=8000): Max retries exceeded with url: /translate (Caused by NewConnectionError('<urllib3.connection.HTTPConnection object at 0x0000029E5487ECB0>: Failed to establish a new connection: [WinError 10061] No connection could be made because the target machine actively refused it'))",
     "output_type": "error",
     "traceback": [
      "\u001b[1;31m---------------------------------------------------------------------------\u001b[0m",
      "\u001b[1;31mConnectionRefusedError\u001b[0m                    Traceback (most recent call last)",
      "File \u001b[1;32mc:\\Users\\shaheryar.ahmed\\AppData\\Local\\Programs\\Python\\Python310\\lib\\site-packages\\urllib3\\connection.py:198\u001b[0m, in \u001b[0;36mHTTPConnection._new_conn\u001b[1;34m(self)\u001b[0m\n\u001b[0;32m    197\u001b[0m \u001b[38;5;28;01mtry\u001b[39;00m:\n\u001b[1;32m--> 198\u001b[0m     sock \u001b[38;5;241m=\u001b[39m \u001b[43mconnection\u001b[49m\u001b[38;5;241;43m.\u001b[39;49m\u001b[43mcreate_connection\u001b[49m\u001b[43m(\u001b[49m\n\u001b[0;32m    199\u001b[0m \u001b[43m        \u001b[49m\u001b[43m(\u001b[49m\u001b[38;5;28;43mself\u001b[39;49m\u001b[38;5;241;43m.\u001b[39;49m\u001b[43m_dns_host\u001b[49m\u001b[43m,\u001b[49m\u001b[43m \u001b[49m\u001b[38;5;28;43mself\u001b[39;49m\u001b[38;5;241;43m.\u001b[39;49m\u001b[43mport\u001b[49m\u001b[43m)\u001b[49m\u001b[43m,\u001b[49m\n\u001b[0;32m    200\u001b[0m \u001b[43m        \u001b[49m\u001b[38;5;28;43mself\u001b[39;49m\u001b[38;5;241;43m.\u001b[39;49m\u001b[43mtimeout\u001b[49m\u001b[43m,\u001b[49m\n\u001b[0;32m    201\u001b[0m \u001b[43m        \u001b[49m\u001b[43msource_address\u001b[49m\u001b[38;5;241;43m=\u001b[39;49m\u001b[38;5;28;43mself\u001b[39;49m\u001b[38;5;241;43m.\u001b[39;49m\u001b[43msource_address\u001b[49m\u001b[43m,\u001b[49m\n\u001b[0;32m    202\u001b[0m \u001b[43m        \u001b[49m\u001b[43msocket_options\u001b[49m\u001b[38;5;241;43m=\u001b[39;49m\u001b[38;5;28;43mself\u001b[39;49m\u001b[38;5;241;43m.\u001b[39;49m\u001b[43msocket_options\u001b[49m\u001b[43m,\u001b[49m\n\u001b[0;32m    203\u001b[0m \u001b[43m    \u001b[49m\u001b[43m)\u001b[49m\n\u001b[0;32m    204\u001b[0m \u001b[38;5;28;01mexcept\u001b[39;00m socket\u001b[38;5;241m.\u001b[39mgaierror \u001b[38;5;28;01mas\u001b[39;00m e:\n",
      "File \u001b[1;32mc:\\Users\\shaheryar.ahmed\\AppData\\Local\\Programs\\Python\\Python310\\lib\\site-packages\\urllib3\\util\\connection.py:85\u001b[0m, in \u001b[0;36mcreate_connection\u001b[1;34m(address, timeout, source_address, socket_options)\u001b[0m\n\u001b[0;32m     84\u001b[0m \u001b[38;5;28;01mtry\u001b[39;00m:\n\u001b[1;32m---> 85\u001b[0m     \u001b[38;5;28;01mraise\u001b[39;00m err\n\u001b[0;32m     86\u001b[0m \u001b[38;5;28;01mfinally\u001b[39;00m:\n\u001b[0;32m     87\u001b[0m     \u001b[38;5;66;03m# Break explicitly a reference cycle\u001b[39;00m\n",
      "File \u001b[1;32mc:\\Users\\shaheryar.ahmed\\AppData\\Local\\Programs\\Python\\Python310\\lib\\site-packages\\urllib3\\util\\connection.py:73\u001b[0m, in \u001b[0;36mcreate_connection\u001b[1;34m(address, timeout, source_address, socket_options)\u001b[0m\n\u001b[0;32m     72\u001b[0m     sock\u001b[38;5;241m.\u001b[39mbind(source_address)\n\u001b[1;32m---> 73\u001b[0m \u001b[43msock\u001b[49m\u001b[38;5;241;43m.\u001b[39;49m\u001b[43mconnect\u001b[49m\u001b[43m(\u001b[49m\u001b[43msa\u001b[49m\u001b[43m)\u001b[49m\n\u001b[0;32m     74\u001b[0m \u001b[38;5;66;03m# Break explicitly a reference cycle\u001b[39;00m\n",
      "\u001b[1;31mConnectionRefusedError\u001b[0m: [WinError 10061] No connection could be made because the target machine actively refused it",
      "\nThe above exception was the direct cause of the following exception:\n",
      "\u001b[1;31mNewConnectionError\u001b[0m                        Traceback (most recent call last)",
      "File \u001b[1;32mc:\\Users\\shaheryar.ahmed\\AppData\\Local\\Programs\\Python\\Python310\\lib\\site-packages\\urllib3\\connectionpool.py:793\u001b[0m, in \u001b[0;36mHTTPConnectionPool.urlopen\u001b[1;34m(self, method, url, body, headers, retries, redirect, assert_same_host, timeout, pool_timeout, release_conn, chunked, body_pos, preload_content, decode_content, **response_kw)\u001b[0m\n\u001b[0;32m    792\u001b[0m \u001b[38;5;66;03m# Make the request on the HTTPConnection object\u001b[39;00m\n\u001b[1;32m--> 793\u001b[0m response \u001b[38;5;241m=\u001b[39m \u001b[38;5;28mself\u001b[39m\u001b[38;5;241m.\u001b[39m_make_request(\n\u001b[0;32m    794\u001b[0m     conn,\n\u001b[0;32m    795\u001b[0m     method,\n\u001b[0;32m    796\u001b[0m     url,\n\u001b[0;32m    797\u001b[0m     timeout\u001b[38;5;241m=\u001b[39mtimeout_obj,\n\u001b[0;32m    798\u001b[0m     body\u001b[38;5;241m=\u001b[39mbody,\n\u001b[0;32m    799\u001b[0m     headers\u001b[38;5;241m=\u001b[39mheaders,\n\u001b[0;32m    800\u001b[0m     chunked\u001b[38;5;241m=\u001b[39mchunked,\n\u001b[0;32m    801\u001b[0m     retries\u001b[38;5;241m=\u001b[39mretries,\n\u001b[0;32m    802\u001b[0m     response_conn\u001b[38;5;241m=\u001b[39mresponse_conn,\n\u001b[0;32m    803\u001b[0m     preload_content\u001b[38;5;241m=\u001b[39mpreload_content,\n\u001b[0;32m    804\u001b[0m     decode_content\u001b[38;5;241m=\u001b[39mdecode_content,\n\u001b[0;32m    805\u001b[0m     \u001b[38;5;241m*\u001b[39m\u001b[38;5;241m*\u001b[39mresponse_kw,\n\u001b[0;32m    806\u001b[0m )\n\u001b[0;32m    808\u001b[0m \u001b[38;5;66;03m# Everything went great!\u001b[39;00m\n",
      "File \u001b[1;32mc:\\Users\\shaheryar.ahmed\\AppData\\Local\\Programs\\Python\\Python310\\lib\\site-packages\\urllib3\\connectionpool.py:496\u001b[0m, in \u001b[0;36mHTTPConnectionPool._make_request\u001b[1;34m(self, conn, method, url, body, headers, retries, timeout, chunked, response_conn, preload_content, decode_content, enforce_content_length)\u001b[0m\n\u001b[0;32m    495\u001b[0m \u001b[38;5;28;01mtry\u001b[39;00m:\n\u001b[1;32m--> 496\u001b[0m     \u001b[43mconn\u001b[49m\u001b[38;5;241;43m.\u001b[39;49m\u001b[43mrequest\u001b[49m\u001b[43m(\u001b[49m\n\u001b[0;32m    497\u001b[0m \u001b[43m        \u001b[49m\u001b[43mmethod\u001b[49m\u001b[43m,\u001b[49m\n\u001b[0;32m    498\u001b[0m \u001b[43m        \u001b[49m\u001b[43murl\u001b[49m\u001b[43m,\u001b[49m\n\u001b[0;32m    499\u001b[0m \u001b[43m        \u001b[49m\u001b[43mbody\u001b[49m\u001b[38;5;241;43m=\u001b[39;49m\u001b[43mbody\u001b[49m\u001b[43m,\u001b[49m\n\u001b[0;32m    500\u001b[0m \u001b[43m        \u001b[49m\u001b[43mheaders\u001b[49m\u001b[38;5;241;43m=\u001b[39;49m\u001b[43mheaders\u001b[49m\u001b[43m,\u001b[49m\n\u001b[0;32m    501\u001b[0m \u001b[43m        \u001b[49m\u001b[43mchunked\u001b[49m\u001b[38;5;241;43m=\u001b[39;49m\u001b[43mchunked\u001b[49m\u001b[43m,\u001b[49m\n\u001b[0;32m    502\u001b[0m \u001b[43m        \u001b[49m\u001b[43mpreload_content\u001b[49m\u001b[38;5;241;43m=\u001b[39;49m\u001b[43mpreload_content\u001b[49m\u001b[43m,\u001b[49m\n\u001b[0;32m    503\u001b[0m \u001b[43m        \u001b[49m\u001b[43mdecode_content\u001b[49m\u001b[38;5;241;43m=\u001b[39;49m\u001b[43mdecode_content\u001b[49m\u001b[43m,\u001b[49m\n\u001b[0;32m    504\u001b[0m \u001b[43m        \u001b[49m\u001b[43menforce_content_length\u001b[49m\u001b[38;5;241;43m=\u001b[39;49m\u001b[43menforce_content_length\u001b[49m\u001b[43m,\u001b[49m\n\u001b[0;32m    505\u001b[0m \u001b[43m    \u001b[49m\u001b[43m)\u001b[49m\n\u001b[0;32m    507\u001b[0m \u001b[38;5;66;03m# We are swallowing BrokenPipeError (errno.EPIPE) since the server is\u001b[39;00m\n\u001b[0;32m    508\u001b[0m \u001b[38;5;66;03m# legitimately able to close the connection after sending a valid response.\u001b[39;00m\n\u001b[0;32m    509\u001b[0m \u001b[38;5;66;03m# With this behaviour, the received response is still readable.\u001b[39;00m\n",
      "File \u001b[1;32mc:\\Users\\shaheryar.ahmed\\AppData\\Local\\Programs\\Python\\Python310\\lib\\site-packages\\urllib3\\connection.py:400\u001b[0m, in \u001b[0;36mHTTPConnection.request\u001b[1;34m(self, method, url, body, headers, chunked, preload_content, decode_content, enforce_content_length)\u001b[0m\n\u001b[0;32m    399\u001b[0m     \u001b[38;5;28mself\u001b[39m\u001b[38;5;241m.\u001b[39mputheader(header, value)\n\u001b[1;32m--> 400\u001b[0m \u001b[38;5;28;43mself\u001b[39;49m\u001b[38;5;241;43m.\u001b[39;49m\u001b[43mendheaders\u001b[49m\u001b[43m(\u001b[49m\u001b[43m)\u001b[49m\n\u001b[0;32m    402\u001b[0m \u001b[38;5;66;03m# If we're given a body we start sending that in chunks.\u001b[39;00m\n",
      "File \u001b[1;32mc:\\Users\\shaheryar.ahmed\\AppData\\Local\\Programs\\Python\\Python310\\lib\\http\\client.py:1277\u001b[0m, in \u001b[0;36mHTTPConnection.endheaders\u001b[1;34m(self, message_body, encode_chunked)\u001b[0m\n\u001b[0;32m   1276\u001b[0m     \u001b[38;5;28;01mraise\u001b[39;00m CannotSendHeader()\n\u001b[1;32m-> 1277\u001b[0m \u001b[38;5;28;43mself\u001b[39;49m\u001b[38;5;241;43m.\u001b[39;49m\u001b[43m_send_output\u001b[49m\u001b[43m(\u001b[49m\u001b[43mmessage_body\u001b[49m\u001b[43m,\u001b[49m\u001b[43m \u001b[49m\u001b[43mencode_chunked\u001b[49m\u001b[38;5;241;43m=\u001b[39;49m\u001b[43mencode_chunked\u001b[49m\u001b[43m)\u001b[49m\n",
      "File \u001b[1;32mc:\\Users\\shaheryar.ahmed\\AppData\\Local\\Programs\\Python\\Python310\\lib\\http\\client.py:1037\u001b[0m, in \u001b[0;36mHTTPConnection._send_output\u001b[1;34m(self, message_body, encode_chunked)\u001b[0m\n\u001b[0;32m   1036\u001b[0m \u001b[38;5;28;01mdel\u001b[39;00m \u001b[38;5;28mself\u001b[39m\u001b[38;5;241m.\u001b[39m_buffer[:]\n\u001b[1;32m-> 1037\u001b[0m \u001b[38;5;28;43mself\u001b[39;49m\u001b[38;5;241;43m.\u001b[39;49m\u001b[43msend\u001b[49m\u001b[43m(\u001b[49m\u001b[43mmsg\u001b[49m\u001b[43m)\u001b[49m\n\u001b[0;32m   1039\u001b[0m \u001b[38;5;28;01mif\u001b[39;00m message_body \u001b[38;5;129;01mis\u001b[39;00m \u001b[38;5;129;01mnot\u001b[39;00m \u001b[38;5;28;01mNone\u001b[39;00m:\n\u001b[0;32m   1040\u001b[0m \n\u001b[0;32m   1041\u001b[0m     \u001b[38;5;66;03m# create a consistent interface to message_body\u001b[39;00m\n",
      "File \u001b[1;32mc:\\Users\\shaheryar.ahmed\\AppData\\Local\\Programs\\Python\\Python310\\lib\\http\\client.py:975\u001b[0m, in \u001b[0;36mHTTPConnection.send\u001b[1;34m(self, data)\u001b[0m\n\u001b[0;32m    974\u001b[0m \u001b[38;5;28;01mif\u001b[39;00m \u001b[38;5;28mself\u001b[39m\u001b[38;5;241m.\u001b[39mauto_open:\n\u001b[1;32m--> 975\u001b[0m     \u001b[38;5;28;43mself\u001b[39;49m\u001b[38;5;241;43m.\u001b[39;49m\u001b[43mconnect\u001b[49m\u001b[43m(\u001b[49m\u001b[43m)\u001b[49m\n\u001b[0;32m    976\u001b[0m \u001b[38;5;28;01melse\u001b[39;00m:\n",
      "File \u001b[1;32mc:\\Users\\shaheryar.ahmed\\AppData\\Local\\Programs\\Python\\Python310\\lib\\site-packages\\urllib3\\connection.py:238\u001b[0m, in \u001b[0;36mHTTPConnection.connect\u001b[1;34m(self)\u001b[0m\n\u001b[0;32m    237\u001b[0m \u001b[38;5;28;01mdef\u001b[39;00m \u001b[38;5;21mconnect\u001b[39m(\u001b[38;5;28mself\u001b[39m) \u001b[38;5;241m-\u001b[39m\u001b[38;5;241m>\u001b[39m \u001b[38;5;28;01mNone\u001b[39;00m:\n\u001b[1;32m--> 238\u001b[0m     \u001b[38;5;28mself\u001b[39m\u001b[38;5;241m.\u001b[39msock \u001b[38;5;241m=\u001b[39m \u001b[38;5;28;43mself\u001b[39;49m\u001b[38;5;241;43m.\u001b[39;49m\u001b[43m_new_conn\u001b[49m\u001b[43m(\u001b[49m\u001b[43m)\u001b[49m\n\u001b[0;32m    239\u001b[0m     \u001b[38;5;28;01mif\u001b[39;00m \u001b[38;5;28mself\u001b[39m\u001b[38;5;241m.\u001b[39m_tunnel_host:\n\u001b[0;32m    240\u001b[0m         \u001b[38;5;66;03m# If we're tunneling it means we're connected to our proxy.\u001b[39;00m\n",
      "File \u001b[1;32mc:\\Users\\shaheryar.ahmed\\AppData\\Local\\Programs\\Python\\Python310\\lib\\site-packages\\urllib3\\connection.py:213\u001b[0m, in \u001b[0;36mHTTPConnection._new_conn\u001b[1;34m(self)\u001b[0m\n\u001b[0;32m    212\u001b[0m \u001b[38;5;28;01mexcept\u001b[39;00m \u001b[38;5;167;01mOSError\u001b[39;00m \u001b[38;5;28;01mas\u001b[39;00m e:\n\u001b[1;32m--> 213\u001b[0m     \u001b[38;5;28;01mraise\u001b[39;00m NewConnectionError(\n\u001b[0;32m    214\u001b[0m         \u001b[38;5;28mself\u001b[39m, \u001b[38;5;124mf\u001b[39m\u001b[38;5;124m\"\u001b[39m\u001b[38;5;124mFailed to establish a new connection: \u001b[39m\u001b[38;5;132;01m{\u001b[39;00me\u001b[38;5;132;01m}\u001b[39;00m\u001b[38;5;124m\"\u001b[39m\n\u001b[0;32m    215\u001b[0m     ) \u001b[38;5;28;01mfrom\u001b[39;00m \u001b[38;5;21;01me\u001b[39;00m\n\u001b[0;32m    217\u001b[0m \u001b[38;5;66;03m# Audit hooks are only available in Python 3.8+\u001b[39;00m\n",
      "\u001b[1;31mNewConnectionError\u001b[0m: <urllib3.connection.HTTPConnection object at 0x0000029E5487ECB0>: Failed to establish a new connection: [WinError 10061] No connection could be made because the target machine actively refused it",
      "\nThe above exception was the direct cause of the following exception:\n",
      "\u001b[1;31mMaxRetryError\u001b[0m                             Traceback (most recent call last)",
      "File \u001b[1;32mc:\\Users\\shaheryar.ahmed\\AppData\\Local\\Programs\\Python\\Python310\\lib\\site-packages\\requests\\adapters.py:667\u001b[0m, in \u001b[0;36mHTTPAdapter.send\u001b[1;34m(self, request, stream, timeout, verify, cert, proxies)\u001b[0m\n\u001b[0;32m    666\u001b[0m \u001b[38;5;28;01mtry\u001b[39;00m:\n\u001b[1;32m--> 667\u001b[0m     resp \u001b[38;5;241m=\u001b[39m \u001b[43mconn\u001b[49m\u001b[38;5;241;43m.\u001b[39;49m\u001b[43murlopen\u001b[49m\u001b[43m(\u001b[49m\n\u001b[0;32m    668\u001b[0m \u001b[43m        \u001b[49m\u001b[43mmethod\u001b[49m\u001b[38;5;241;43m=\u001b[39;49m\u001b[43mrequest\u001b[49m\u001b[38;5;241;43m.\u001b[39;49m\u001b[43mmethod\u001b[49m\u001b[43m,\u001b[49m\n\u001b[0;32m    669\u001b[0m \u001b[43m        \u001b[49m\u001b[43murl\u001b[49m\u001b[38;5;241;43m=\u001b[39;49m\u001b[43murl\u001b[49m\u001b[43m,\u001b[49m\n\u001b[0;32m    670\u001b[0m \u001b[43m        \u001b[49m\u001b[43mbody\u001b[49m\u001b[38;5;241;43m=\u001b[39;49m\u001b[43mrequest\u001b[49m\u001b[38;5;241;43m.\u001b[39;49m\u001b[43mbody\u001b[49m\u001b[43m,\u001b[49m\n\u001b[0;32m    671\u001b[0m \u001b[43m        \u001b[49m\u001b[43mheaders\u001b[49m\u001b[38;5;241;43m=\u001b[39;49m\u001b[43mrequest\u001b[49m\u001b[38;5;241;43m.\u001b[39;49m\u001b[43mheaders\u001b[49m\u001b[43m,\u001b[49m\n\u001b[0;32m    672\u001b[0m \u001b[43m        \u001b[49m\u001b[43mredirect\u001b[49m\u001b[38;5;241;43m=\u001b[39;49m\u001b[38;5;28;43;01mFalse\u001b[39;49;00m\u001b[43m,\u001b[49m\n\u001b[0;32m    673\u001b[0m \u001b[43m        \u001b[49m\u001b[43massert_same_host\u001b[49m\u001b[38;5;241;43m=\u001b[39;49m\u001b[38;5;28;43;01mFalse\u001b[39;49;00m\u001b[43m,\u001b[49m\n\u001b[0;32m    674\u001b[0m \u001b[43m        \u001b[49m\u001b[43mpreload_content\u001b[49m\u001b[38;5;241;43m=\u001b[39;49m\u001b[38;5;28;43;01mFalse\u001b[39;49;00m\u001b[43m,\u001b[49m\n\u001b[0;32m    675\u001b[0m \u001b[43m        \u001b[49m\u001b[43mdecode_content\u001b[49m\u001b[38;5;241;43m=\u001b[39;49m\u001b[38;5;28;43;01mFalse\u001b[39;49;00m\u001b[43m,\u001b[49m\n\u001b[0;32m    676\u001b[0m \u001b[43m        \u001b[49m\u001b[43mretries\u001b[49m\u001b[38;5;241;43m=\u001b[39;49m\u001b[38;5;28;43mself\u001b[39;49m\u001b[38;5;241;43m.\u001b[39;49m\u001b[43mmax_retries\u001b[49m\u001b[43m,\u001b[49m\n\u001b[0;32m    677\u001b[0m \u001b[43m        \u001b[49m\u001b[43mtimeout\u001b[49m\u001b[38;5;241;43m=\u001b[39;49m\u001b[43mtimeout\u001b[49m\u001b[43m,\u001b[49m\n\u001b[0;32m    678\u001b[0m \u001b[43m        \u001b[49m\u001b[43mchunked\u001b[49m\u001b[38;5;241;43m=\u001b[39;49m\u001b[43mchunked\u001b[49m\u001b[43m,\u001b[49m\n\u001b[0;32m    679\u001b[0m \u001b[43m    \u001b[49m\u001b[43m)\u001b[49m\n\u001b[0;32m    681\u001b[0m \u001b[38;5;28;01mexcept\u001b[39;00m (ProtocolError, \u001b[38;5;167;01mOSError\u001b[39;00m) \u001b[38;5;28;01mas\u001b[39;00m err:\n",
      "File \u001b[1;32mc:\\Users\\shaheryar.ahmed\\AppData\\Local\\Programs\\Python\\Python310\\lib\\site-packages\\urllib3\\connectionpool.py:847\u001b[0m, in \u001b[0;36mHTTPConnectionPool.urlopen\u001b[1;34m(self, method, url, body, headers, retries, redirect, assert_same_host, timeout, pool_timeout, release_conn, chunked, body_pos, preload_content, decode_content, **response_kw)\u001b[0m\n\u001b[0;32m    845\u001b[0m     new_e \u001b[38;5;241m=\u001b[39m ProtocolError(\u001b[38;5;124m\"\u001b[39m\u001b[38;5;124mConnection aborted.\u001b[39m\u001b[38;5;124m\"\u001b[39m, new_e)\n\u001b[1;32m--> 847\u001b[0m retries \u001b[38;5;241m=\u001b[39m \u001b[43mretries\u001b[49m\u001b[38;5;241;43m.\u001b[39;49m\u001b[43mincrement\u001b[49m\u001b[43m(\u001b[49m\n\u001b[0;32m    848\u001b[0m \u001b[43m    \u001b[49m\u001b[43mmethod\u001b[49m\u001b[43m,\u001b[49m\u001b[43m \u001b[49m\u001b[43murl\u001b[49m\u001b[43m,\u001b[49m\u001b[43m \u001b[49m\u001b[43merror\u001b[49m\u001b[38;5;241;43m=\u001b[39;49m\u001b[43mnew_e\u001b[49m\u001b[43m,\u001b[49m\u001b[43m \u001b[49m\u001b[43m_pool\u001b[49m\u001b[38;5;241;43m=\u001b[39;49m\u001b[38;5;28;43mself\u001b[39;49m\u001b[43m,\u001b[49m\u001b[43m \u001b[49m\u001b[43m_stacktrace\u001b[49m\u001b[38;5;241;43m=\u001b[39;49m\u001b[43msys\u001b[49m\u001b[38;5;241;43m.\u001b[39;49m\u001b[43mexc_info\u001b[49m\u001b[43m(\u001b[49m\u001b[43m)\u001b[49m\u001b[43m[\u001b[49m\u001b[38;5;241;43m2\u001b[39;49m\u001b[43m]\u001b[49m\n\u001b[0;32m    849\u001b[0m \u001b[43m\u001b[49m\u001b[43m)\u001b[49m\n\u001b[0;32m    850\u001b[0m retries\u001b[38;5;241m.\u001b[39msleep()\n",
      "File \u001b[1;32mc:\\Users\\shaheryar.ahmed\\AppData\\Local\\Programs\\Python\\Python310\\lib\\site-packages\\urllib3\\util\\retry.py:515\u001b[0m, in \u001b[0;36mRetry.increment\u001b[1;34m(self, method, url, response, error, _pool, _stacktrace)\u001b[0m\n\u001b[0;32m    514\u001b[0m     reason \u001b[38;5;241m=\u001b[39m error \u001b[38;5;129;01mor\u001b[39;00m ResponseError(cause)\n\u001b[1;32m--> 515\u001b[0m     \u001b[38;5;28;01mraise\u001b[39;00m MaxRetryError(_pool, url, reason) \u001b[38;5;28;01mfrom\u001b[39;00m \u001b[38;5;21;01mreason\u001b[39;00m  \u001b[38;5;66;03m# type: ignore[arg-type]\u001b[39;00m\n\u001b[0;32m    517\u001b[0m log\u001b[38;5;241m.\u001b[39mdebug(\u001b[38;5;124m\"\u001b[39m\u001b[38;5;124mIncremented Retry for (url=\u001b[39m\u001b[38;5;124m'\u001b[39m\u001b[38;5;132;01m%s\u001b[39;00m\u001b[38;5;124m'\u001b[39m\u001b[38;5;124m): \u001b[39m\u001b[38;5;132;01m%r\u001b[39;00m\u001b[38;5;124m\"\u001b[39m, url, new_retry)\n",
      "\u001b[1;31mMaxRetryError\u001b[0m: HTTPConnectionPool(host='127.0.0.1', port=8000): Max retries exceeded with url: /translate (Caused by NewConnectionError('<urllib3.connection.HTTPConnection object at 0x0000029E5487ECB0>: Failed to establish a new connection: [WinError 10061] No connection could be made because the target machine actively refused it'))",
      "\nDuring handling of the above exception, another exception occurred:\n",
      "\u001b[1;31mConnectionError\u001b[0m                           Traceback (most recent call last)",
      "Cell \u001b[1;32mIn [17], line 11\u001b[0m\n\u001b[0;32m      8\u001b[0m data \u001b[38;5;241m=\u001b[39m {\u001b[38;5;124m\"\u001b[39m\u001b[38;5;124minput_text\u001b[39m\u001b[38;5;124m\"\u001b[39m: input_text}\n\u001b[0;32m     10\u001b[0m \u001b[38;5;66;03m# Send the request\u001b[39;00m\n\u001b[1;32m---> 11\u001b[0m response \u001b[38;5;241m=\u001b[39m \u001b[43mrequests\u001b[49m\u001b[38;5;241;43m.\u001b[39;49m\u001b[43mpost\u001b[49m\u001b[43m(\u001b[49m\u001b[43murl\u001b[49m\u001b[43m,\u001b[49m\u001b[43m \u001b[49m\u001b[43mjson\u001b[49m\u001b[38;5;241;43m=\u001b[39;49m\u001b[43mdata\u001b[49m\u001b[43m)\u001b[49m\n\u001b[0;32m     13\u001b[0m \u001b[38;5;66;03m# Check if the request was successful\u001b[39;00m\n\u001b[0;32m     14\u001b[0m \u001b[38;5;28;01mif\u001b[39;00m response\u001b[38;5;241m.\u001b[39mstatus_code \u001b[38;5;241m==\u001b[39m \u001b[38;5;241m200\u001b[39m:\n\u001b[0;32m     15\u001b[0m     \u001b[38;5;66;03m# Parse the response\u001b[39;00m\n",
      "File \u001b[1;32mc:\\Users\\shaheryar.ahmed\\AppData\\Local\\Programs\\Python\\Python310\\lib\\site-packages\\requests\\api.py:115\u001b[0m, in \u001b[0;36mpost\u001b[1;34m(url, data, json, **kwargs)\u001b[0m\n\u001b[0;32m    103\u001b[0m \u001b[38;5;28;01mdef\u001b[39;00m \u001b[38;5;21mpost\u001b[39m(url, data\u001b[38;5;241m=\u001b[39m\u001b[38;5;28;01mNone\u001b[39;00m, json\u001b[38;5;241m=\u001b[39m\u001b[38;5;28;01mNone\u001b[39;00m, \u001b[38;5;241m*\u001b[39m\u001b[38;5;241m*\u001b[39mkwargs):\n\u001b[0;32m    104\u001b[0m     \u001b[38;5;124mr\u001b[39m\u001b[38;5;124;03m\"\"\"Sends a POST request.\u001b[39;00m\n\u001b[0;32m    105\u001b[0m \n\u001b[0;32m    106\u001b[0m \u001b[38;5;124;03m    :param url: URL for the new :class:`Request` object.\u001b[39;00m\n\u001b[1;32m   (...)\u001b[0m\n\u001b[0;32m    112\u001b[0m \u001b[38;5;124;03m    :rtype: requests.Response\u001b[39;00m\n\u001b[0;32m    113\u001b[0m \u001b[38;5;124;03m    \"\"\"\u001b[39;00m\n\u001b[1;32m--> 115\u001b[0m     \u001b[38;5;28;01mreturn\u001b[39;00m request(\u001b[38;5;124m\"\u001b[39m\u001b[38;5;124mpost\u001b[39m\u001b[38;5;124m\"\u001b[39m, url, data\u001b[38;5;241m=\u001b[39mdata, json\u001b[38;5;241m=\u001b[39mjson, \u001b[38;5;241m*\u001b[39m\u001b[38;5;241m*\u001b[39mkwargs)\n",
      "File \u001b[1;32mc:\\Users\\shaheryar.ahmed\\AppData\\Local\\Programs\\Python\\Python310\\lib\\site-packages\\requests\\api.py:59\u001b[0m, in \u001b[0;36mrequest\u001b[1;34m(method, url, **kwargs)\u001b[0m\n\u001b[0;32m     55\u001b[0m \u001b[38;5;66;03m# By using the 'with' statement we are sure the session is closed, thus we\u001b[39;00m\n\u001b[0;32m     56\u001b[0m \u001b[38;5;66;03m# avoid leaving sockets open which can trigger a ResourceWarning in some\u001b[39;00m\n\u001b[0;32m     57\u001b[0m \u001b[38;5;66;03m# cases, and look like a memory leak in others.\u001b[39;00m\n\u001b[0;32m     58\u001b[0m \u001b[38;5;28;01mwith\u001b[39;00m sessions\u001b[38;5;241m.\u001b[39mSession() \u001b[38;5;28;01mas\u001b[39;00m session:\n\u001b[1;32m---> 59\u001b[0m     \u001b[38;5;28;01mreturn\u001b[39;00m session\u001b[38;5;241m.\u001b[39mrequest(method\u001b[38;5;241m=\u001b[39mmethod, url\u001b[38;5;241m=\u001b[39murl, \u001b[38;5;241m*\u001b[39m\u001b[38;5;241m*\u001b[39mkwargs)\n",
      "File \u001b[1;32mc:\\Users\\shaheryar.ahmed\\AppData\\Local\\Programs\\Python\\Python310\\lib\\site-packages\\requests\\sessions.py:589\u001b[0m, in \u001b[0;36mSession.request\u001b[1;34m(self, method, url, params, data, headers, cookies, files, auth, timeout, allow_redirects, proxies, hooks, stream, verify, cert, json)\u001b[0m\n\u001b[0;32m    584\u001b[0m send_kwargs \u001b[38;5;241m=\u001b[39m {\n\u001b[0;32m    585\u001b[0m     \u001b[38;5;124m\"\u001b[39m\u001b[38;5;124mtimeout\u001b[39m\u001b[38;5;124m\"\u001b[39m: timeout,\n\u001b[0;32m    586\u001b[0m     \u001b[38;5;124m\"\u001b[39m\u001b[38;5;124mallow_redirects\u001b[39m\u001b[38;5;124m\"\u001b[39m: allow_redirects,\n\u001b[0;32m    587\u001b[0m }\n\u001b[0;32m    588\u001b[0m send_kwargs\u001b[38;5;241m.\u001b[39mupdate(settings)\n\u001b[1;32m--> 589\u001b[0m resp \u001b[38;5;241m=\u001b[39m \u001b[38;5;28mself\u001b[39m\u001b[38;5;241m.\u001b[39msend(prep, \u001b[38;5;241m*\u001b[39m\u001b[38;5;241m*\u001b[39msend_kwargs)\n\u001b[0;32m    591\u001b[0m \u001b[38;5;28;01mreturn\u001b[39;00m resp\n",
      "File \u001b[1;32mc:\\Users\\shaheryar.ahmed\\AppData\\Local\\Programs\\Python\\Python310\\lib\\site-packages\\requests\\sessions.py:703\u001b[0m, in \u001b[0;36mSession.send\u001b[1;34m(self, request, **kwargs)\u001b[0m\n\u001b[0;32m    700\u001b[0m start \u001b[38;5;241m=\u001b[39m preferred_clock()\n\u001b[0;32m    702\u001b[0m \u001b[38;5;66;03m# Send the request\u001b[39;00m\n\u001b[1;32m--> 703\u001b[0m r \u001b[38;5;241m=\u001b[39m adapter\u001b[38;5;241m.\u001b[39msend(request, \u001b[38;5;241m*\u001b[39m\u001b[38;5;241m*\u001b[39mkwargs)\n\u001b[0;32m    705\u001b[0m \u001b[38;5;66;03m# Total elapsed time of the request (approximately)\u001b[39;00m\n\u001b[0;32m    706\u001b[0m elapsed \u001b[38;5;241m=\u001b[39m preferred_clock() \u001b[38;5;241m-\u001b[39m start\n",
      "File \u001b[1;32mc:\\Users\\shaheryar.ahmed\\AppData\\Local\\Programs\\Python\\Python310\\lib\\site-packages\\requests\\adapters.py:700\u001b[0m, in \u001b[0;36mHTTPAdapter.send\u001b[1;34m(self, request, stream, timeout, verify, cert, proxies)\u001b[0m\n\u001b[0;32m    696\u001b[0m     \u001b[38;5;28;01mif\u001b[39;00m \u001b[38;5;28misinstance\u001b[39m(e\u001b[38;5;241m.\u001b[39mreason, _SSLError):\n\u001b[0;32m    697\u001b[0m         \u001b[38;5;66;03m# This branch is for urllib3 v1.22 and later.\u001b[39;00m\n\u001b[0;32m    698\u001b[0m         \u001b[38;5;28;01mraise\u001b[39;00m SSLError(e, request\u001b[38;5;241m=\u001b[39mrequest)\n\u001b[1;32m--> 700\u001b[0m     \u001b[38;5;28;01mraise\u001b[39;00m \u001b[38;5;167;01mConnectionError\u001b[39;00m(e, request\u001b[38;5;241m=\u001b[39mrequest)\n\u001b[0;32m    702\u001b[0m \u001b[38;5;28;01mexcept\u001b[39;00m ClosedPoolError \u001b[38;5;28;01mas\u001b[39;00m e:\n\u001b[0;32m    703\u001b[0m     \u001b[38;5;28;01mraise\u001b[39;00m \u001b[38;5;167;01mConnectionError\u001b[39;00m(e, request\u001b[38;5;241m=\u001b[39mrequest)\n",
      "\u001b[1;31mConnectionError\u001b[0m: HTTPConnectionPool(host='127.0.0.1', port=8000): Max retries exceeded with url: /translate (Caused by NewConnectionError('<urllib3.connection.HTTPConnection object at 0x0000029E5487ECB0>: Failed to establish a new connection: [WinError 10061] No connection could be made because the target machine actively refused it'))"
     ]
    }
   ],
   "source": [
    "import requests\n",
    "\n",
    "# Define the API URL\n",
    "url = \"http://127.0.0.1:8000/translate\"\n",
    "\n",
    "# Prepare the input data\n",
    "input_text = \"Create a table for top noise cancelling headphones that are not expensive\"\n",
    "data = {\"input_text\": input_text}\n",
    "\n",
    "# Send the request\n",
    "response = requests.post(url, json=data)\n",
    "\n",
    "# Check if the request was successful\n",
    "if response.status_code == 200:\n",
    "    # Parse the response\n",
    "    result = response.json()\n",
    "    print(\"Output Text:\", result[\"output_text\"])\n",
    "    print(\"Elapsed Time (ms):\", result[\"elapsed_time\"])\n",
    "else:\n",
    "    print(\"Error:\", response.status_code, response.text)\n"
   ]
  },
  {
   "cell_type": "code",
   "execution_count": 3,
   "metadata": {},
   "outputs": [
    {
     "name": "stderr",
     "output_type": "stream",
     "text": [
      "c:\\Users\\shaheryar.ahmed\\AppData\\Local\\Programs\\Python\\Python310\\lib\\site-packages\\tqdm\\auto.py:21: TqdmWarning: IProgress not found. Please update jupyter and ipywidgets. See https://ipywidgets.readthedocs.io/en/stable/user_install.html\n",
      "  from .autonotebook import tqdm as notebook_tqdm\n",
      "c:\\Users\\shaheryar.ahmed\\AppData\\Local\\Programs\\Python\\Python310\\lib\\site-packages\\huggingface_hub\\file_download.py:1132: FutureWarning: `resume_download` is deprecated and will be removed in version 1.0.0. Downloads always resume when possible. If you want to force a new download, use `force_download=True`.\n",
      "  warnings.warn(\n"
     ]
    },
    {
     "name": "stdout",
     "output_type": "stream",
     "text": [
      "Outputs: ['When did Nikola Tesla die. When did Milutin Milankovic die ']\n",
      "Elapsed time: 78.7923 milliseconds\n"
     ]
    }
   ],
   "source": [
    "import ctranslate2\n",
    "import time\n",
    "import os\n",
    "from transformers import AutoTokenizer\n",
    "import torch\n",
    "\n",
    "# Disable gradient computation for inference\n",
    "torch.set_grad_enabled(False)\n",
    "\n",
    "# Load optimized model\n",
    "translator = ctranslate2.Translator(\n",
    "    \"optimized_model4\", \n",
    "    device=\"cpu\",  \n",
    "    compute_type=\"int8\",\n",
    "    inter_threads=os.cpu_count(),\n",
    "    intra_threads=2\n",
    ")\n",
    "\n",
    "model_name = \"lapp0/flan-t5-small-query-expansion-merged-lr-2e-4-ep-30\"\n",
    "tokenizer = AutoTokenizer.from_pretrained(model_name, use_fast=True)\n",
    "\n",
    "# Tokenization cache\n",
    "TOKENIZED_CACHE = {}\n",
    "\n",
    "def get_cached_tokens(text, tokenizer):\n",
    "    if text not in TOKENIZED_CACHE:\n",
    "        tokens = tokenizer.tokenize(text)\n",
    "        tokens = tokens + [tokenizer.eos_token]\n",
    "        TOKENIZED_CACHE[text] = tokens\n",
    "    return TOKENIZED_CACHE[text]\n",
    "\n",
    "# Warm-up (optional but recommended)\n",
    "warm_up_texts = [\"example query\"]\n",
    "warm_up_tokens = [get_cached_tokens(text, tokenizer) for text in warm_up_texts]\n",
    "translator.translate_batch(warm_up_tokens)\n",
    "\n",
    "def fast_inference(input_texts):\n",
    "    # Tokenize inputs\n",
    "    input_tokens = [get_cached_tokens(text, tokenizer) for text in input_texts]\n",
    "    \n",
    "    # Perform translation\n",
    "    results = translator.translate_batch(\n",
    "        input_tokens,\n",
    "        beam_size=1,\n",
    "        return_scores=False,\n",
    "        max_decoding_length=16\n",
    "    )\n",
    "    \n",
    "    # Decode outputs\n",
    "    output_texts = [tokenizer.convert_tokens_to_string(result.hypotheses[0]) for result in results]\n",
    "    return output_texts\n",
    "\n",
    "# Main execution\n",
    "input_texts = [\"Who lived longer, Nikola Tesla or Milutin Milankovic?\"]\n",
    "\n",
    "start_time = time.time()\n",
    "outputs = fast_inference(input_texts)\n",
    "end_time = time.time()\n",
    "\n",
    "elapsed_time = (end_time - start_time) * 1000\n",
    "print(\"Outputs:\", outputs)\n",
    "print(f\"Elapsed time: {elapsed_time:.4f} milliseconds\")"
   ]
  },
  {
   "cell_type": "code",
   "execution_count": null,
   "metadata": {},
   "outputs": [],
   "source": []
  }
 ],
 "metadata": {
  "kernelspec": {
   "display_name": "Python 3",
   "language": "python",
   "name": "python3"
  },
  "language_info": {
   "codemirror_mode": {
    "name": "ipython",
    "version": 3
   },
   "file_extension": ".py",
   "mimetype": "text/x-python",
   "name": "python",
   "nbconvert_exporter": "python",
   "pygments_lexer": "ipython3",
   "version": "3.10.1"
  }
 },
 "nbformat": 4,
 "nbformat_minor": 2
}
